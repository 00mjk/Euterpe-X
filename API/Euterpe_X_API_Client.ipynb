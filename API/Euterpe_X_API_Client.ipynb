{
  "nbformat": 4,
  "nbformat_minor": 0,
  "metadata": {
    "colab": {
      "private_outputs": true,
      "provenance": []
    },
    "kernelspec": {
      "name": "python3",
      "display_name": "Python 3"
    },
    "language_info": {
      "name": "python"
    },
    "gpuClass": "standard"
  },
  "cells": [
    {
      "cell_type": "markdown",
      "source": [
        "# Client IP"
      ],
      "metadata": {
        "id": "iQKipBidR-0s"
      }
    },
    {
      "cell_type": "code",
      "source": [
        "!curl ipecho.net/plain"
      ],
      "metadata": {
        "id": "BlKSOxRvuUPF"
      },
      "execution_count": null,
      "outputs": []
    },
    {
      "cell_type": "markdown",
      "source": [
        "# TMIDIX Python module"
      ],
      "metadata": {
        "id": "aqkwwC8gSfbT"
      }
    },
    {
      "cell_type": "code",
      "source": [
        "!git clone https://github.com/asigalov61/tegridy-tools"
      ],
      "metadata": {
        "id": "2sagQkBWSW5k"
      },
      "execution_count": null,
      "outputs": []
    },
    {
      "cell_type": "code",
      "source": [
        "%cd /content/tegridy-tools/tegridy-tools\n",
        "\n",
        "import TMIDIX\n",
        "\n",
        "%cd /content/"
      ],
      "metadata": {
        "id": "-bVFzkU5SkGb"
      },
      "execution_count": null,
      "outputs": []
    },
    {
      "cell_type": "markdown",
      "source": [
        "# Load input MIDI file"
      ],
      "metadata": {
        "id": "wsOUiUc6SGhW"
      }
    },
    {
      "cell_type": "code",
      "source": [
        "f = '/content/tegridy-tools/tegridy-tools/seed2.mid'\n",
        "\n",
        "#=======================================================\n",
        "# START PROCESSING\n",
        "\n",
        "# Convering MIDI to ms score with MIDI.py module\n",
        "score = TMIDIX.midi2ms_score(open(f, 'rb').read())\n",
        "\n",
        "# INSTRUMENTS CONVERSION CYCLE\n",
        "events_matrix = []\n",
        "melody_chords_f = []\n",
        "melody_chords_f1 = []\n",
        "\n",
        "itrack = 1\n",
        "\n",
        "patches = [0, 0, 0, 0, 0, 0, 0, 0, 0, 0, 0, 0, 0, 0, 0, 0]\n",
        "\n",
        "patch_map = [\n",
        "            [0, 1, 2, 3, 4, 5, 6, 7], # Piano \n",
        "            [24, 25, 26, 27, 28, 29, 30], # Guitar\n",
        "            [32, 33, 34, 35, 36, 37, 38, 39], # Bass\n",
        "            [40, 41], # Violin\n",
        "            [42, 43], # Cello\n",
        "            [46], # Harp\n",
        "            [56, 57, 58, 59, 60], # Trumpet\n",
        "            [64, 65, 66, 67, 68, 69, 70, 71], # Sax\n",
        "            [72, 73, 74, 75, 76, 77, 78], # Flute\n",
        "            [-1], # Drums\n",
        "            [52, 53], # Choir\n",
        "            [16, 17, 18, 19, 20] # Organ\n",
        "            ]\n",
        "\n",
        "while itrack < len(score):\n",
        "  for event in score[itrack]:         \n",
        "      if event[0] == 'note' or event[0] == 'patch_change':\n",
        "          events_matrix.append(event)\n",
        "  itrack += 1\n",
        "\n",
        "events_matrix.sort(key=lambda x: x[1])\n",
        "\n",
        "events_matrix1 = []\n",
        "\n",
        "for event in events_matrix:\n",
        "  if event[0] == 'patch_change':\n",
        "      patches[event[2]] = event[3]\n",
        "\n",
        "  if event[0] == 'note':\n",
        "      event.extend([patches[event[3]]])\n",
        "      once = False\n",
        "\n",
        "      for p in patch_map:\n",
        "          if event[6] in p and event[3] != 9: # Except the drums\n",
        "              event[3] = patch_map.index(p)\n",
        "              once = True\n",
        "\n",
        "      if not once and event[3] != 9: # Except the drums\n",
        "          event[3] = 15 # All other instruments/patches channel\n",
        "          event[5] = max(80, event[5])\n",
        "\n",
        "      if event[3] < 12: # We won't write chans 12-16 for now...\n",
        "          events_matrix1.append(event)\n",
        "\n",
        "#=======================================================\n",
        "# PRE-PROCESSING\n",
        "\n",
        "# checking number of instruments in a composition\n",
        "instruments_list_without_drums = list(set([y[3] for y in events_matrix1 if y[3] != 9]))\n",
        "\n",
        "if len(events_matrix1) > 0 and len(instruments_list_without_drums) > 0:\n",
        "\n",
        "  # recalculating timings\n",
        "  for e in events_matrix1:\n",
        "      e[1] = int(e[1] / 8) # Max 1 seconds for start-times\n",
        "      e[2] = int(e[2] / 30) # Max 2 seconds for durations\n",
        "\n",
        "  # Sorting by pitch, then by start-time\n",
        "  events_matrix1.sort(key=lambda x: x[4], reverse=True)\n",
        "  events_matrix1.sort(key=lambda x: x[1])\n",
        "\n",
        "  #=======================================================\n",
        "  # FINAL PRE-PROCESSING\n",
        "\n",
        "  melody_chords = []\n",
        "\n",
        "  pe = events_matrix1[0]\n",
        "\n",
        "  for e in events_matrix1:\n",
        "    if e[1] >= 0 and e[2] > 0:\n",
        "\n",
        "      # Cliping all values...\n",
        "      tim = max(0, min(255, e[1]-pe[1]))             \n",
        "      dur = max(1, min(127, e[2]))\n",
        "      cha = max(0, min(11, e[3]))\n",
        "      ptc = max(1, min(127, e[4]))\n",
        "      vel = max(1, min(127, e[5]))\n",
        "\n",
        "      # Writing final note \n",
        "      melody_chords.append([tim, dur, cha, ptc, vel])\n",
        "\n",
        "      pe = e\n",
        "\n",
        "#=======================================================\n",
        "# Velocities map\n",
        "#=======================================================\n",
        "\n",
        "# Default fixed velocities for each channel/instrument\n",
        "velocities_map = [80, 80, 70, 100, 90, 80, 100, 100, 100, 90, 110, 100]\n",
        "\n",
        "# Extracting velocities from the MIDI file\n",
        "for i in range(12):\n",
        "  vels = [m[4] for m in melody_chords if m[2] == i]\n",
        "\n",
        "  avg_vel = 0\n",
        "\n",
        "  if len(vels) > 0:\n",
        "    avg_vel = int(sum(vels) / len(vels))\n",
        "\n",
        "  if avg_vel > 20:\n",
        "    velocities_map[i] = avg_vel\n",
        "\n",
        "#=======================================================\n",
        "# MAIN PROCESSING CYCLE\n",
        "#=======================================================\n",
        "\n",
        "for m in melody_chords:\n",
        "\n",
        "  # WRITING EACH NOTE HERE\n",
        "  time = m[0]\n",
        "  cha_dur = (m[2] * 128) + m[1]\n",
        "  cha_ptc = (m[2] * 128) + m[3]\n",
        "    \n",
        "  melody_chords_f.extend([time, cha_dur+256, cha_ptc+1792])\n",
        "\n",
        "print(melody_chords_f)"
      ],
      "metadata": {
        "id": "OJfYLTiHSyH3"
      },
      "execution_count": null,
      "outputs": []
    },
    {
      "cell_type": "markdown",
      "source": [
        "# API requests examples"
      ],
      "metadata": {
        "id": "aDnJYX4sSBhP"
      }
    },
    {
      "cell_type": "markdown",
      "source": [
        "## Curl request with improv tokens sequence"
      ],
      "metadata": {
        "id": "LBPV_o2yV7yB"
      }
    },
    {
      "cell_type": "code",
      "execution_count": null,
      "metadata": {
        "id": "D8f1LjQmts4V"
      },
      "outputs": [],
      "source": [
        "!curl --header \"Content-Type: application/json\" --request POST --data '{\"input_notes\":[[3343, 3330, 3339]],\"notes_count\":10}' http://152.70.113.241:6000/"
      ]
    },
    {
      "cell_type": "markdown",
      "source": [
        "## Python request with the custom MIDI above"
      ],
      "metadata": {
        "id": "f-QlEsFnWFp9"
      }
    },
    {
      "cell_type": "code",
      "source": [
        "import requests\n",
        "import json\n",
        "\n",
        "input_notes = melody_chords_f[:240] # Prime sequence (of 240 / 3 == 80 notes)\n",
        "\n",
        "number_of_notes_to_generate = 128\n",
        "\n",
        "data = json.dumps({\n",
        "\t\t\n",
        "\t\t\t\t\"input_notes\": input_notes, \n",
        "\n",
        "\t\t\t\t\"notes_count\": number_of_notes_to_generate, # Number of notes to generate\n",
        "\n",
        "\t\t    })\n",
        "\n",
        "headers = {\"Content-Type\": \"application/json\"}\n",
        "\n",
        "print('=' * 90)\n",
        "print('Requesting data... Please wait...')\n",
        "response = requests.post('http://152.70.113.241:6000', headers=headers, data=data)\n",
        "print('=' * 90)\n",
        "print('Response received! :)')\n",
        "print('=' * 90)\n",
        "res = response.json()\n",
        "print('=' * 90)\n",
        "print(res)\n",
        "print('=' * 90)\n",
        "print(res['input_notes'])\n",
        "print(res['output_notes'])\n",
        "print('=' * 90)"
      ],
      "metadata": {
        "id": "OZLqfKsuKNCi"
      },
      "execution_count": null,
      "outputs": []
    },
    {
      "cell_type": "markdown",
      "source": [
        "## Convert API response to MIDI"
      ],
      "metadata": {
        "id": "F2yMpjRRTs4x"
      }
    },
    {
      "cell_type": "code",
      "source": [
        "print('=' * 70)\n",
        "\n",
        "out1 = input_notes + res['output_notes'] # Input notes + API response\n",
        "\n",
        "print('Sample INTs', out1[:12])\n",
        "print('=' * 70)\n",
        "\n",
        "if len(out1) != 0:\n",
        "  \n",
        "    song = out1\n",
        "    song_f = []\n",
        "\n",
        "    time = 0\n",
        "    dur = 0\n",
        "    channel = 0\n",
        "    pitch = 0\n",
        "    vel = 90\n",
        "\n",
        "    for ss in song:\n",
        "\n",
        "      if ss > 0 and ss < 256:\n",
        "\n",
        "          time += ss * 8\n",
        "        \n",
        "      if ss >= 256 and ss < 256+(12*128):\n",
        "\n",
        "          dur = ((ss-256) % 128) * 30\n",
        "          \n",
        "      if ss >= 256+(12*128) and ss < 256+(12*128)+(12*128):\n",
        "          channel = (ss-(256+(12*128))) // 128\n",
        "          pitch = (ss-(256+(12*128))) % 128\n",
        "          vel = velocities_map[channel]\n",
        "\n",
        "          song_f.append(['note', time, dur, channel, pitch, vel ])\n",
        "\n",
        "    detailed_stats = TMIDIX.Tegridy_SONG_to_MIDI_Converter(song_f,\n",
        "                                                        output_signature = 'Euterpe X',  \n",
        "                                                        output_file_name = '/content/Euterpe-X-Music-Composition_'+str(i), \n",
        "                                                        track_name='Project Los Angeles',\n",
        "                                                        list_of_MIDI_patches=[0, 24, 32, 40, 42, 46, 56, 71, 73, 0, 53, 19, 0, 0, 0, 0],\n",
        "                                                        number_of_ticks_per_quarter=500)\n",
        "\n",
        "\n",
        "    print('=' * 70)"
      ],
      "metadata": {
        "id": "-K4UUFIGTy31"
      },
      "execution_count": null,
      "outputs": []
    }
  ]
}