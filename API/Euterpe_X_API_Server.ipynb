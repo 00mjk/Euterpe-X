{
 "cells": [
  {
   "cell_type": "markdown",
   "id": "6dc0c05b-59ae-464c-b856-d3e773036086",
   "metadata": {},
   "source": [
    "# Install all dependencies"
   ]
  },
  {
   "cell_type": "code",
   "execution_count": null,
   "id": "68fd76b4-5e4e-44f1-b1d3-c01b34ca0d74",
   "metadata": {},
   "outputs": [],
   "source": [
    "!pip install --upgrade pip\n",
    "!pip install torch==2.0.1\n",
    "!pip install einops\n",
    "!pip install flask\n",
    "!pip install waitress\n",
    "!pip install flask-restful"
   ]
  },
  {
   "cell_type": "markdown",
   "id": "e924571a-def5-4f2d-a1a0-974e32fe6eae",
   "metadata": {},
   "source": [
    "# Download Euterpe-X repo"
   ]
  },
  {
   "cell_type": "code",
   "execution_count": null,
   "id": "df48fa7c-8757-4aed-8c57-e1bbdd7a42d7",
   "metadata": {},
   "outputs": [],
   "source": [
    "!git clone https://github.com/asigalov61/Euterpe-X"
   ]
  },
  {
   "cell_type": "markdown",
   "id": "3dfb60d9-bf99-4efe-aea2-9a8a5e2f196f",
   "metadata": {},
   "source": [
    "# Unzip Pre-Trained Euterpe X Model"
   ]
  },
  {
   "cell_type": "code",
   "execution_count": null,
   "id": "a541e84f-fe2f-4da2-9314-3e73146ba066",
   "metadata": {},
   "outputs": [],
   "source": [
    "print('=' * 70)\n",
    "%cd /home/ubuntu/Euterpe-X/Model\n",
    "\n",
    "print('=' * 70)\n",
    "print('Unzipping pre-trained Euterpe X model...Please wait...')\n",
    "\n",
    "!cat /home/ubuntu/Euterpe-X/Model/Euterpe_X_Trained_Model.zip* > /home/ubuntu/Euterpe-X/Model/Euterpe_X_Trained_Model.zip\n",
    "print('=' * 70)\n",
    "\n",
    "!unzip -j /home/ubuntu/Euterpe-X/Model/Euterpe_X_Trained_Model.zip\n",
    "print('=' * 70)\n",
    "\n",
    "print('Done! Enjoy! :)')\n",
    "print('=' * 70)\n",
    "%cd /home/ubuntu/\n",
    "print('=' * 70)"
   ]
  },
  {
   "cell_type": "markdown",
   "id": "210ae49c-a641-412a-bb4e-83d896f58f04",
   "metadata": {},
   "source": [
    "# API"
   ]
  },
  {
   "cell_type": "code",
   "execution_count": null,
   "id": "8927a40b-63e7-4c66-b27c-d01794c5f818",
   "metadata": {},
   "outputs": [],
   "source": [
    "import torch\n",
    "\n",
    "%cd /home/ubuntu/Euterpe-X\n",
    "import TMIDIX\n",
    "from x_transformer import TransformerWrapper, Decoder, AutoregressiveWrapper\n",
    "\n",
    "%cd /home/ubuntu/\n",
    "\n",
    "from flask import Flask, jsonify, request\n",
    "from flask_restful import reqparse, abort, Api, Resource\n",
    "from waitress import serve"
   ]
  },
  {
   "cell_type": "code",
   "execution_count": null,
   "id": "18576a54-1d18-4d6c-adcd-b53a7cb2c97c",
   "metadata": {},
   "outputs": [],
   "source": [
    "#@title Load Euterpe X Model\n",
    "full_path_to_model_checkpoint = '/home/ubuntu/Euterpe-X/Model/Euterpe_X_Trained_Model_58000_steps_0.6865_loss.pth'\n",
    "\n",
    "print('=' * 70)\n",
    "print('Loading Euterpe X Pre-Trained Model...')\n",
    "print('Please wait...')\n",
    "print('=' * 70)\n",
    "print('Instantiating model...')\n",
    "\n",
    "SEQ_LEN = 2048\n",
    "\n",
    "# instantiate the model\n",
    "\n",
    "model = TransformerWrapper(\n",
    "    num_tokens = 3344,\n",
    "    max_seq_len = SEQ_LEN,\n",
    "    attn_layers = Decoder(dim = 1024, depth = 32, heads = 8)\n",
    ")\n",
    "\n",
    "model = AutoregressiveWrapper(model)\n",
    "\n",
    "model = torch.nn.DataParallel(model)\n",
    "\n",
    "model.cuda()\n",
    "print('=' * 70)\n",
    "print('Done!')\n",
    "print('=' * 70)\n",
    "\n",
    "print('=' * 70)\n",
    "\n",
    "print('Loading model checkpoint...')\n",
    "\n",
    "model.load_state_dict(torch.load(full_path_to_model_checkpoint))\n",
    "print('=' * 70)\n",
    "\n",
    "model.eval()\n",
    "\n",
    "print('Done!')\n",
    "print('=' * 70)"
   ]
  },
  {
   "cell_type": "code",
   "execution_count": null,
   "id": "0e51b594-b24b-4460-996e-c89be43d0cdb",
   "metadata": {},
   "outputs": [],
   "source": [
    "app = Flask(__name__)\n",
    "api = Api(app)\n",
    "\n",
    "# argument parsing\n",
    "\n",
    "parser = reqparse.RequestParser()\n",
    "parser.add_argument('input_notes', type=str, help='Note string as a list of ints. I.e: [3343, 3330, 3339]')\n",
    "parser.add_argument('notes_count', type=int, help='Number of notes to generate')\n",
    "\n",
    "class PredictSentiment(Resource):\n",
    "    def post(self):\n",
    "\n",
    "        json_data = request.get_json(force=True)\n",
    "        input_notes = json_data['input_notes']\n",
    "        notes_count = json_data['notes_count']\n",
    "        \n",
    "        print('=' * 70)\n",
    "        print('Received API request to generate', notes_count, 'notes...')\n",
    "        print('=' * 70)\n",
    "        print('Request input notes sequence:')\n",
    "        print('=' * 70)\n",
    "        print(input_notes)\n",
    "        print('=' * 70)\n",
    "        \n",
    "        # Model stuff\n",
    "        \n",
    "        num_batches = 1\n",
    "\n",
    "        inp = [input_notes] * num_batches\n",
    "\n",
    "        inp = torch.LongTensor(inp).cuda()\n",
    "\n",
    "        out = model.module.generate(inp, \n",
    "                              notes_count*3, \n",
    "                              temperature=0.9, \n",
    "                              return_prime=False, \n",
    "                              verbose=True)\n",
    "\n",
    "        out_notes = out[0].tolist() # 0 == batch number\n",
    "        \n",
    "        print('=' * 70)\n",
    "        print('Done!')\n",
    "        print('=' * 70)\n",
    "        \n",
    "        return jsonify(input_notes=input_notes, output_notes=out_notes)\n",
    "\n",
    "# Setup the Api resource routing here\n",
    "# Route the URL to the resource\n",
    "api.add_resource(PredictSentiment, '/')\n",
    "\n",
    "if __name__ == '__main__':\n",
    "    print('Euterpe-X API Sever')\n",
    "    serve(app, port=6000)"
   ]
  }
 ],
 "metadata": {
  "kernelspec": {
   "display_name": "Python 3",
   "language": "python",
   "name": "python3"
  },
  "language_info": {
   "codemirror_mode": {
    "name": "ipython",
    "version": 3
   },
   "file_extension": ".py",
   "mimetype": "text/x-python",
   "name": "python",
   "nbconvert_exporter": "python",
   "pygments_lexer": "ipython3",
   "version": "3.8.10"
  }
 },
 "nbformat": 4,
 "nbformat_minor": 5
}
